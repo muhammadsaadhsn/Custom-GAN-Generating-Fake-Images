{
 "cells": [
  {
   "cell_type": "code",
   "execution_count": 65,
   "id": "initial_id",
   "metadata": {
    "ExecuteTime": {
     "end_time": "2024-10-20T13:54:34.502666Z",
     "start_time": "2024-10-20T13:54:34.490601Z"
    },
    "collapsed": true
   },
   "outputs": [],
   "source": [
    "import torch\n",
    "import torchvision\n",
    "import torchvision.transforms as transforms\n",
    "import torch.nn as nn\n",
    "import matplotlib.pyplot as plt"
   ]
  },
  {
   "cell_type": "code",
   "execution_count": 66,
   "id": "f8081c6b1250a24d",
   "metadata": {
    "ExecuteTime": {
     "end_time": "2024-10-20T13:54:34.518021Z",
     "start_time": "2024-10-20T13:54:34.509612Z"
    }
   },
   "outputs": [],
   "source": [
    "device = torch.device('cuda' if torch.cuda.is_available() else 'cpu')"
   ]
  },
  {
   "cell_type": "code",
   "execution_count": 67,
   "id": "9c1760efce545d10",
   "metadata": {
    "ExecuteTime": {
     "end_time": "2024-10-20T13:54:35.569195Z",
     "start_time": "2024-10-20T13:54:34.646690Z"
    }
   },
   "outputs": [
    {
     "name": "stdout",
     "output_type": "stream",
     "text": [
      "Files already downloaded and verified\n"
     ]
    }
   ],
   "source": [
    "transform = transforms.Compose([\n",
    "        transforms.ToTensor(),\n",
    "        transforms.Normalize((0.5, 0.5, 0.5), (0.5, 0.5, 0.5))  # Normalize data between -1 and 1\n",
    "    ])\n",
    "\n",
    "# Load CIFAR-10 dataset\n",
    "dataset = torchvision.datasets.CIFAR10(root='./data', train=True, download=True, transform=transform)\n",
    "    \n",
    "# Filter out only cats (3) and dogs (5)\n",
    "cat_mask = torch.tensor([label == 3 for label in dataset.targets])\n",
    "dog_mask = torch.tensor([label == 5 for label in dataset.targets])\n",
    "    \n",
    "# Get cat and dog data\n",
    "cat_data = dataset.data[cat_mask]\n",
    "dog_data = dataset.data[dog_mask]\n",
    "    \n",
    "# Convert numpy arrays to tensors and normalize\n",
    "cat_dataset = torch.utils.data.TensorDataset(torch.FloatTensor(cat_data).permute(0, 3, 1, 2) / 127.5 - 1)\n",
    "dog_dataset = torch.utils.data.TensorDataset(torch.FloatTensor(dog_data).permute(0, 3, 1, 2) / 127.5 - 1)"
   ]
  },
  {
   "cell_type": "code",
   "execution_count": 68,
   "id": "21bcd0611c64a71d",
   "metadata": {
    "ExecuteTime": {
     "end_time": "2024-10-20T13:54:35.724652Z",
     "start_time": "2024-10-20T13:54:35.712218Z"
    }
   },
   "outputs": [],
   "source": [
    "class Generator(nn.Module):\n",
    "    def __init__(self, latent_dim=100):\n",
    "        super(Generator, self).__init__()\n",
    "        self.main = nn.Sequential(\n",
    "            nn.Linear(latent_dim, 4*4*512),\n",
    "            nn.Unflatten(1, (512, 4, 4)),\n",
    "            \n",
    "            nn.ConvTranspose2d(512, 256, 4, 2, 1),\n",
    "            nn.BatchNorm2d(256),\n",
    "            nn.LeakyReLU(0.2),\n",
    "            \n",
    "            nn.ConvTranspose2d(256, 128, 4, 2, 1),\n",
    "            nn.BatchNorm2d(128),\n",
    "            nn.LeakyReLU(0.2),\n",
    "            \n",
    "            nn.ConvTranspose2d(128, 64, 4, 2, 1),\n",
    "            nn.BatchNorm2d(64),\n",
    "            nn.LeakyReLU(0.2),\n",
    "            \n",
    "            nn.Conv2d(64, 3, 3, 1, 1),\n",
    "            nn.Tanh()\n",
    "        )\n",
    "    \n",
    "    def forward(self, x):\n",
    "        return self.main(x)\n",
    "    \n",
    "class Discriminator(nn.Module):\n",
    "    def __init__(self):\n",
    "        super(Discriminator, self).__init__()\n",
    "        self.main = nn.Sequential(\n",
    "            nn.Conv2d(3, 64, 3, 2, 1),\n",
    "            nn.LeakyReLU(0.2),\n",
    "            \n",
    "            nn.Conv2d(64, 128, 3, 2, 1),\n",
    "            nn.BatchNorm2d(128),\n",
    "            nn.LeakyReLU(0.2),\n",
    "            \n",
    "            nn.Conv2d(128, 256, 3, 2, 1),\n",
    "            nn.BatchNorm2d(256),\n",
    "            nn.LeakyReLU(0.2),\n",
    "            \n",
    "            nn.Flatten(),\n",
    "            nn.Linear(256 * 4 * 4, 1),\n",
    "            nn.Sigmoid()\n",
    "        )\n",
    "    \n",
    "    def forward(self, x):\n",
    "        return self.main(x)"
   ]
  },
  {
   "cell_type": "code",
   "execution_count": 69,
   "id": "1ef7723074221ad4",
   "metadata": {
    "ExecuteTime": {
     "end_time": "2024-10-20T13:54:36.309251Z",
     "start_time": "2024-10-20T13:54:35.870646Z"
    }
   },
   "outputs": [],
   "source": [
    "generator = Generator().to(device)\n",
    "discriminator = Discriminator().to(device)"
   ]
  },
  {
   "cell_type": "code",
   "execution_count": 70,
   "id": "8bcdb533a8340e75",
   "metadata": {
    "ExecuteTime": {
     "end_time": "2024-10-20T13:54:36.480944Z",
     "start_time": "2024-10-20T13:54:36.468044Z"
    }
   },
   "outputs": [],
   "source": [
    "# Loss function and optimizer\n",
    "criterion = nn.BCELoss()\n",
    "optimizer_g = torch.optim.Adam(generator.parameters(), lr=0.0002, betas=(0.5, 0.999))\n",
    "optimizer_d = torch.optim.Adam(discriminator.parameters(), lr=0.0002, betas=(0.5, 0.999))"
   ]
  },
  {
   "cell_type": "code",
   "execution_count": 71,
   "id": "33761ccaa65fbc17",
   "metadata": {
    "ExecuteTime": {
     "end_time": "2024-10-20T13:54:36.622667Z",
     "start_time": "2024-10-20T13:54:36.609612Z"
    }
   },
   "outputs": [],
   "source": [
    "# Training parameters\n",
    "batch_size = 64\n",
    "latent_dim = 100\n",
    "epochs = 100"
   ]
  },
  {
   "cell_type": "code",
   "execution_count": 74,
   "id": "30061d4307c54510",
   "metadata": {
    "ExecuteTime": {
     "end_time": "2024-10-20T14:01:37.660224Z",
     "start_time": "2024-10-20T13:57:10.474421Z"
    }
   },
   "outputs": [
    {
     "name": "stdout",
     "output_type": "stream",
     "text": [
      "Epoch: 1/100, Loss D: 1.7469983100891113, Loss G: 1.2611173391342163\n",
      "Epoch: 2/100, Loss D: 1.4422917366027832, Loss G: 0.8062819242477417\n",
      "Epoch: 3/100, Loss D: 1.4839701652526855, Loss G: 1.026470422744751\n",
      "Epoch: 4/100, Loss D: 0.9130200147628784, Loss G: 1.3706156015396118\n",
      "Epoch: 5/100, Loss D: 1.3204456567764282, Loss G: 1.9866626262664795\n",
      "Epoch: 6/100, Loss D: 0.8557156324386597, Loss G: 1.1959543228149414\n",
      "Epoch: 7/100, Loss D: 1.551461935043335, Loss G: 0.9095509052276611\n",
      "Epoch: 8/100, Loss D: 1.177417278289795, Loss G: 0.5114673972129822\n",
      "Epoch: 9/100, Loss D: 1.3908765316009521, Loss G: 0.7986819744110107\n",
      "Epoch: 10/100, Loss D: 1.4209469556808472, Loss G: 0.724402904510498\n",
      "Epoch: 11/100, Loss D: 1.30607271194458, Loss G: 0.6437323093414307\n",
      "Epoch: 12/100, Loss D: 1.3225903511047363, Loss G: 1.0717357397079468\n",
      "Epoch: 13/100, Loss D: 1.0453358888626099, Loss G: 1.0791046619415283\n",
      "Epoch: 14/100, Loss D: 1.0457961559295654, Loss G: 1.023635745048523\n",
      "Epoch: 15/100, Loss D: 1.4319543838500977, Loss G: 0.6136460304260254\n",
      "Epoch: 16/100, Loss D: 1.0103992223739624, Loss G: 0.7311807870864868\n",
      "Epoch: 17/100, Loss D: 1.3148783445358276, Loss G: 1.0982521772384644\n",
      "Epoch: 18/100, Loss D: 1.4233300685882568, Loss G: 0.8088473081588745\n",
      "Epoch: 19/100, Loss D: 1.0789356231689453, Loss G: 0.676007866859436\n",
      "Epoch: 20/100, Loss D: 1.5561678409576416, Loss G: 1.4425034523010254\n",
      "Epoch: 21/100, Loss D: 0.9454076886177063, Loss G: 1.1112360954284668\n",
      "Epoch: 22/100, Loss D: 1.2595765590667725, Loss G: 0.7573159337043762\n",
      "Epoch: 23/100, Loss D: 1.2751431465148926, Loss G: 0.9579980373382568\n",
      "Epoch: 24/100, Loss D: 1.1017396450042725, Loss G: 1.3511557579040527\n",
      "Epoch: 25/100, Loss D: 0.705217719078064, Loss G: 1.4422746896743774\n",
      "Epoch: 26/100, Loss D: 0.895003616809845, Loss G: 0.8812603950500488\n",
      "Epoch: 27/100, Loss D: 0.7946853637695312, Loss G: 0.9143531918525696\n",
      "Epoch: 28/100, Loss D: 1.0970656871795654, Loss G: 1.1717562675476074\n",
      "Epoch: 29/100, Loss D: 1.2157974243164062, Loss G: 0.696002721786499\n",
      "Epoch: 30/100, Loss D: 1.1626732349395752, Loss G: 1.4790235757827759\n",
      "Epoch: 31/100, Loss D: 1.217526912689209, Loss G: 0.6990755796432495\n",
      "Epoch: 32/100, Loss D: 1.05413818359375, Loss G: 1.115515947341919\n",
      "Epoch: 33/100, Loss D: 0.7341132164001465, Loss G: 0.9336885213851929\n",
      "Epoch: 34/100, Loss D: 0.8002766370773315, Loss G: 1.7170865535736084\n",
      "Epoch: 35/100, Loss D: 0.8753509521484375, Loss G: 0.824661374092102\n",
      "Epoch: 36/100, Loss D: 1.0142571926116943, Loss G: 1.641998291015625\n",
      "Epoch: 37/100, Loss D: 0.8817138671875, Loss G: 1.3165876865386963\n",
      "Epoch: 38/100, Loss D: 0.9008444547653198, Loss G: 1.3156970739364624\n",
      "Epoch: 39/100, Loss D: 0.7383058667182922, Loss G: 1.3394927978515625\n",
      "Epoch: 40/100, Loss D: 1.1496710777282715, Loss G: 1.7892465591430664\n",
      "Epoch: 41/100, Loss D: 0.6388020515441895, Loss G: 1.493224024772644\n",
      "Epoch: 42/100, Loss D: 0.9634525179862976, Loss G: 0.8325792551040649\n",
      "Epoch: 43/100, Loss D: 0.8046149015426636, Loss G: 1.7785662412643433\n",
      "Epoch: 44/100, Loss D: 0.7522697448730469, Loss G: 1.5026271343231201\n",
      "Epoch: 45/100, Loss D: 0.6481635570526123, Loss G: 1.730765461921692\n",
      "Epoch: 46/100, Loss D: 0.822956919670105, Loss G: 1.3626084327697754\n",
      "Epoch: 47/100, Loss D: 0.8296126127243042, Loss G: 1.390364646911621\n",
      "Epoch: 48/100, Loss D: 0.9652661085128784, Loss G: 1.9531902074813843\n",
      "Epoch: 49/100, Loss D: 0.6554883718490601, Loss G: 1.276064395904541\n",
      "Epoch: 50/100, Loss D: 0.7826874852180481, Loss G: 1.630409836769104\n",
      "Epoch: 51/100, Loss D: 0.8089435696601868, Loss G: 1.6977777481079102\n",
      "Epoch: 52/100, Loss D: 0.9123632907867432, Loss G: 1.681077003479004\n",
      "Epoch: 53/100, Loss D: 0.9605166912078857, Loss G: 1.8573694229125977\n",
      "Epoch: 54/100, Loss D: 0.6163631081581116, Loss G: 2.0782382488250732\n",
      "Epoch: 55/100, Loss D: 0.9515720009803772, Loss G: 1.9152429103851318\n",
      "Epoch: 56/100, Loss D: 0.7274645566940308, Loss G: 1.5101155042648315\n",
      "Epoch: 57/100, Loss D: 0.7848623991012573, Loss G: 2.0015249252319336\n",
      "Epoch: 58/100, Loss D: 0.5442343950271606, Loss G: 2.079751968383789\n",
      "Epoch: 59/100, Loss D: 0.7146100997924805, Loss G: 1.8076422214508057\n",
      "Epoch: 60/100, Loss D: 0.6403270959854126, Loss G: 1.92964506149292\n",
      "Epoch: 61/100, Loss D: 0.700798511505127, Loss G: 1.8950440883636475\n",
      "Epoch: 62/100, Loss D: 0.432360976934433, Loss G: 1.7828502655029297\n",
      "Epoch: 63/100, Loss D: 0.5206312537193298, Loss G: 1.5649361610412598\n",
      "Epoch: 64/100, Loss D: 0.6697826385498047, Loss G: 1.986443042755127\n",
      "Epoch: 65/100, Loss D: 0.7941956520080566, Loss G: 2.239408493041992\n",
      "Epoch: 66/100, Loss D: 0.6133066415786743, Loss G: 0.9248110055923462\n",
      "Epoch: 67/100, Loss D: 0.5216424465179443, Loss G: 1.6358027458190918\n",
      "Epoch: 68/100, Loss D: 0.6485270261764526, Loss G: 2.01265287399292\n",
      "Epoch: 69/100, Loss D: 0.8991367816925049, Loss G: 2.7798876762390137\n",
      "Epoch: 70/100, Loss D: 0.5422887206077576, Loss G: 2.208263397216797\n",
      "Epoch: 71/100, Loss D: 0.6752671003341675, Loss G: 2.050823211669922\n",
      "Epoch: 72/100, Loss D: 0.7612664699554443, Loss G: 1.8653671741485596\n",
      "Epoch: 73/100, Loss D: 0.44791343808174133, Loss G: 2.481477737426758\n",
      "Epoch: 74/100, Loss D: 0.5419100522994995, Loss G: 1.9193369150161743\n",
      "Epoch: 75/100, Loss D: 0.5217251181602478, Loss G: 2.294542074203491\n",
      "Epoch: 76/100, Loss D: 0.4066756069660187, Loss G: 2.1386194229125977\n",
      "Epoch: 77/100, Loss D: 0.518629789352417, Loss G: 2.718350410461426\n",
      "Epoch: 78/100, Loss D: 0.4181378483772278, Loss G: 1.3602595329284668\n",
      "Epoch: 79/100, Loss D: 0.5572150349617004, Loss G: 1.9476277828216553\n",
      "Epoch: 80/100, Loss D: 0.5697855949401855, Loss G: 2.3136048316955566\n",
      "Epoch: 81/100, Loss D: 0.5384708642959595, Loss G: 2.4949615001678467\n",
      "Epoch: 82/100, Loss D: 0.5399799346923828, Loss G: 1.998358964920044\n",
      "Epoch: 83/100, Loss D: 0.8385859727859497, Loss G: 2.8400137424468994\n",
      "Epoch: 84/100, Loss D: 0.5453885793685913, Loss G: 1.8381142616271973\n",
      "Epoch: 85/100, Loss D: 0.5656267404556274, Loss G: 2.8601720333099365\n",
      "Epoch: 86/100, Loss D: 0.40270382165908813, Loss G: 1.9670524597167969\n",
      "Epoch: 87/100, Loss D: 0.5684813261032104, Loss G: 2.4560019969940186\n",
      "Epoch: 88/100, Loss D: 0.4470081925392151, Loss G: 2.0000345706939697\n",
      "Epoch: 89/100, Loss D: 0.4249439239501953, Loss G: 2.122150421142578\n",
      "Epoch: 90/100, Loss D: 0.3318779468536377, Loss G: 2.509489059448242\n",
      "Epoch: 91/100, Loss D: 0.4548574686050415, Loss G: 2.129131317138672\n",
      "Epoch: 92/100, Loss D: 0.37064412236213684, Loss G: 2.9625749588012695\n",
      "Epoch: 93/100, Loss D: 0.6553477048873901, Loss G: 3.3915066719055176\n",
      "Epoch: 94/100, Loss D: 0.4661879539489746, Loss G: 3.1809511184692383\n",
      "Epoch: 95/100, Loss D: 0.3875052332878113, Loss G: 1.998873233795166\n",
      "Epoch: 96/100, Loss D: 0.2473963052034378, Loss G: 1.9829373359680176\n",
      "Epoch: 97/100, Loss D: 0.4829556345939636, Loss G: 3.7691826820373535\n",
      "Epoch: 98/100, Loss D: 0.43696773052215576, Loss G: 2.1673123836517334\n",
      "Epoch: 99/100, Loss D: 0.4160745441913605, Loss G: 2.6204888820648193\n",
      "Epoch: 100/100, Loss D: 0.3606555759906769, Loss G: 1.7612749338150024\n"
     ]
    }
   ],
   "source": [
    "for epoch in range(epochs):\n",
    "    for i in range(0, len(cat_dataset), batch_size):\n",
    "        # Handle batch sizes at the end of dataset\n",
    "        batch_end = min(i + batch_size, len(cat_dataset))\n",
    "        current_batch_size = batch_end - i\n",
    "\n",
    "        # Get real images\n",
    "        cat_batch = cat_dataset[i:batch_end][0].to(device)\n",
    "\n",
    "        # Train discriminator\n",
    "        optimizer_d.zero_grad()\n",
    "\n",
    "        # Real images\n",
    "        real_labels = torch.ones(current_batch_size).to(device).view(-1, 1)\n",
    "        output = discriminator(cat_batch)\n",
    "        loss_d_real = criterion(output, real_labels)\n",
    "\n",
    "        # Fake images\n",
    "        fake_labels = torch.zeros(current_batch_size).to(device).view(-1, 1)\n",
    "        noise = torch.randn(current_batch_size, latent_dim).to(device)\n",
    "        fake_images = generator(noise)\n",
    "        output = discriminator(fake_images.detach())\n",
    "        loss_d_fake = criterion(output, fake_labels)\n",
    "\n",
    "        # Total loss\n",
    "        loss_d = loss_d_real + loss_d_fake\n",
    "        loss_d.backward()\n",
    "        optimizer_d.step()\n",
    "\n",
    "        # Train generator\n",
    "        optimizer_g.zero_grad()\n",
    "        noise = torch.randn(current_batch_size, latent_dim).to(device)\n",
    "        fake_images = generator(noise)\n",
    "        output = discriminator(fake_images)\n",
    "        loss_g = criterion(output, real_labels)\n",
    "        loss_g.backward()\n",
    "        optimizer_g.step()\n",
    "        \n",
    "    # Print loss\n",
    "    print(f'Epoch: {epoch + 1}/{epochs}, Loss D: {loss_d.item()}, Loss G: {loss_g.item()}')"
   ]
  },
  {
   "cell_type": "code",
   "execution_count": 77,
   "id": "4112fc7b3cf6102f",
   "metadata": {
    "ExecuteTime": {
     "end_time": "2024-10-20T14:02:09.830879Z",
     "start_time": "2024-10-20T14:02:09.733739Z"
    }
   },
   "outputs": [
    {
     "data": {
      "image/png": "[encoded data removed]",
      "text/plain": [
       "<Figure size 1500x300 with 5 Axes>"
      ]
     },
     "metadata": {},
     "output_type": "display_data"
    }
   ],
   "source": [
    "# Generate images\n",
    "noise = torch.randn(5, latent_dim).to(device)\n",
    "fake_images = generator(noise)\n",
    "fake_images = fake_images.detach().cpu().numpy()\n",
    "\n",
    "# Plot images\n",
    "fig, axs = plt.subplots(1, 5, figsize=(15, 3))\n",
    "for i in range(5):\n",
    "    axs[i].imshow((fake_images[i].transpose(1, 2, 0) + 1) / 2)\n",
    "    axs[i].axis('off')\n",
    "plt.show()"
   ]
  },
  {
   "cell_type": "markdown",
   "id": "91c2867b29bc21a8",
   "metadata": {},
   "source": []
  }
 ],
 "metadata": {
  "kernelspec": {
   "display_name": "Python 3",
   "language": "python",
   "name": "python3"
  },
  "language_info": {
   "codemirror_mode": {
    "name": "ipython",
    "version": 2
   },
   "file_extension": ".py",
   "mimetype": "text/x-python",
   "name": "python",
   "nbconvert_exporter": "python",
   "pygments_lexer": "ipython2",
   "version": "2.7.6"
  }
 },
 "nbformat": 4,
 "nbformat_minor": 5
}
